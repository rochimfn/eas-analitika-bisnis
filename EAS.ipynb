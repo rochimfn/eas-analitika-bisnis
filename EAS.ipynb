{
 "cells": [
  {
   "cell_type": "code",
   "execution_count": 1,
   "metadata": {
    "colab": {
     "base_uri": "https://localhost:8080/"
    },
    "id": "nmcwuDQ9Q5Ip",
    "outputId": "33ec68cf-3f11-49ae-de4f-5283f5fe2005"
   },
   "outputs": [],
   "source": [
    "# Hanya diperlukan untuk keperluan development\n",
    "# import sys\n",
    "# from google.colab import drive\n",
    "# drive.mount('/content/drive/', force_remount=True)\n",
    "# sys.path.append('/content/drive/My Drive/Colab Notebooks/EAS AB')\n"
   ]
  },
  {
   "cell_type": "markdown",
   "metadata": {
    "id": "3ULdAjJ0wj6Y"
   },
   "source": [
    "## Pustaka"
   ]
  },
  {
   "cell_type": "code",
   "execution_count": 2,
   "metadata": {
    "colab": {
     "base_uri": "https://localhost:8080/"
    },
    "id": "sbRgasDZwi0W",
    "outputId": "26f26e8b-bb85-4c21-8602-54491d8fab37"
   },
   "outputs": [],
   "source": [
    "from dataset import *\n",
    "from IPython.display import display\n",
    "import math\n",
    "import pandas as pd\n",
    "import random\n",
    "import time\n",
    "\n",
    "# Hanya diperlukan untuk keperluan development\n",
    "# !pip install ortools\n",
    "from ortools.constraint_solver import routing_enums_pb2\n",
    "from ortools.constraint_solver import pywrapcp"
   ]
  },
  {
   "cell_type": "markdown",
   "metadata": {
    "id": "kAfdhn1fw55w"
   },
   "source": [
    "## Fungsi Bantuan"
   ]
  },
  {
   "cell_type": "code",
   "execution_count": 3,
   "metadata": {
    "id": "bct7HXD9w8Mw"
   },
   "outputs": [],
   "source": [
    "def get_distance(x, y, map):\n",
    "  return map[x][y]\n",
    "\n",
    "def total_distance(individu, map):\n",
    "  distance = 0\n",
    "\n",
    "  for idx in range(len(individu)):\n",
    "    if idx == (len(individu)-1):\n",
    "      break\n",
    "    else:\n",
    "      distance += get_distance( individu[idx], individu[idx+1], map)\n",
    "  return distance\n",
    "\n",
    "def slice_idx(dataset_length):\n",
    "  idx = [random.randrange(dataset_length) for i in range(2)]\n",
    "  return [min(idx), max(idx)]\n",
    "\n",
    "def average_list(lst):\n",
    "  return sum(lst) / len(lst)\n",
    "\n",
    "def pdbest(best, bks):\n",
    "  return ((best - bks)/bks)*100\n",
    "\n",
    "def pdav(avg, bks):\n",
    "  return ((avg - bks)/bks)*100"
   ]
  },
  {
   "cell_type": "markdown",
   "metadata": {
    "id": "7bvh-LnkwtGn"
   },
   "source": [
    "## Fungsi Populasi"
   ]
  },
  {
   "cell_type": "code",
   "execution_count": 4,
   "metadata": {
    "id": "I-mZypUXwwiD"
   },
   "outputs": [],
   "source": [
    "def map_gen(dataset):\n",
    "  w, h = len(dataset), len(dataset)\n",
    "  map = [[0 for x in range(w)] for y in range(h)] \n",
    "\n",
    "  for i in range(len(dataset)):\n",
    "    for j in range(len(dataset)):\n",
    "      x1 = dataset[i][1]\n",
    "      x2 = dataset[j][1]\n",
    "      y1 = dataset[i][2]\n",
    "      y2 = dataset[j][2]\n",
    "      map[i][j] = round(math.sqrt(((x2-x1)**2) + ((y2-y1)**2)), 2)\n",
    "    \n",
    "  return map\n",
    "\n",
    "def individu_gen(dataset_length):\n",
    "  return random.sample( [i for i in range(dataset_length)], dataset_length )  \n",
    "\n",
    "def population_gen(dataset_length, number_of_population):\n",
    "  population = []\n",
    "  for i in range(number_of_population):\n",
    "    population.append(individu_gen(dataset_length))\n",
    "  return population"
   ]
  },
  {
   "cell_type": "markdown",
   "metadata": {
    "id": "OOUs1n52xbyf"
   },
   "source": [
    "## Fungsi Visualisasi"
   ]
  },
  {
   "cell_type": "code",
   "execution_count": 5,
   "metadata": {
    "id": "XjYVYZSpxaY_"
   },
   "outputs": [],
   "source": [
    "def map_as_table(map, **kwargs):\n",
    "  df = pd.DataFrame(data=map)\n",
    "  \n",
    "  if \"columns\" in kwargs:\n",
    "    df.columns = kwargs.get(\"columns\")\n",
    "  else:\n",
    "    df.columns+=1\n",
    "\n",
    "  if \"index\" in kwargs:\n",
    "    df.index = kwargs.get(\"index\")\n",
    "  else:\n",
    "    df.index+=1\n",
    "  \n",
    "  display(df)\n",
    "\n",
    "def plot(title, **kwargs):\n",
    "  index = ['eil51', 'berlin52', 'st70', 'eil76', 'rat99', 'kroA100', 'kroB100', 'kroC100', 'kroD100', 'kroE100', 'eil101', 'pr107', 'pr124', 'pr136', 'pr144']\n",
    "  df = pd.DataFrame(kwargs,\n",
    "                    index=index)\n",
    "  \n",
    "  ax = df.plot.bar(rot=0, figsize=(15, 15))\n",
    "  ax.set_title(title)"
   ]
  },
  {
   "cell_type": "markdown",
   "metadata": {
    "id": "LhueNRlSxlYE"
   },
   "source": [
    "## Fungsi Algoritma Genetika"
   ]
  },
  {
   "cell_type": "code",
   "execution_count": 6,
   "metadata": {
    "id": "U_LaM3Qpxsma"
   },
   "outputs": [],
   "source": [
    "def fitness(individu, map):\n",
    "  distance = total_distance(individu, map)\n",
    "  return ((1/distance), individu , distance)\n",
    "\n",
    "def grade(population, map, fitness):\n",
    "  graded = []\n",
    "  for individu in population:\n",
    "    graded.append(fitness(individu, map))\n",
    "  return [i[1] for i in sorted(graded, reverse=True)]\n",
    "\n",
    "def crossover(a, b):\n",
    "  div_idx_1, div_idx_2 = slice_idx(len(a))\n",
    "  slices = a[div_idx_1:div_idx_2]\n",
    "  not_in_slices = [i for i in b if i not in slices]\n",
    "  offspring = not_in_slices[0:div_idx_1] + slices + not_in_slices[div_idx_1:]\n",
    "  return offspring\n",
    "\n",
    "def mutate(individu, chance_to_mutate) :\n",
    "  mutant = individu[:]\n",
    "  r = random.random()\n",
    "  first_idx = random.randint(0, len(individu)-1)\n",
    "  second_idx = random.randint(0, len(individu)-1)\n",
    "  if chance_to_mutate > r:\n",
    "    mutant[first_idx],mutant[second_idx] = mutant[second_idx],mutant[first_idx]\n",
    "  return mutant\n",
    "\n",
    "def selection(population):\n",
    "    return population[:2]\n",
    "  \n",
    "\n",
    "def genetic_algorithm(dataset):\n",
    "  map = map_gen(dataset)\n",
    "\n",
    "  NUMBER_OF_POPULATION = 50 \n",
    "  NUMBER_OF_GENERATION = 1000\n",
    "  CHANCE_TO_MUTATE = 1\n",
    "\n",
    "  population = population_gen(len(dataset), NUMBER_OF_POPULATION)\n",
    "  best_individu = None\n",
    "\n",
    "  for generation in range(NUMBER_OF_GENERATION):\n",
    "    graded_population = grade(population, map, fitness)[:49]\n",
    "\n",
    "    grade_one, grade_two = selection(graded_population)\n",
    "\n",
    "    best_individu = grade_one[:]\n",
    "    \n",
    "    child = crossover(grade_one, grade_two)\n",
    "    mutant = mutate(child, CHANCE_TO_MUTATE)\n",
    "    population = graded_population[:49]\n",
    "    population.append(mutant)\n",
    "\n",
    "\n",
    "  best_distance = total_distance(best_individu, map)\n",
    "  return best_distance"
   ]
  },
  {
   "cell_type": "markdown",
   "metadata": {
    "id": "RIQuPNDZI3qS"
   },
   "source": [
    "## Fungsi Google OR-Tools"
   ]
  },
  {
   "cell_type": "code",
   "execution_count": 7,
   "metadata": {
    "id": "clxTz-LLI26o"
   },
   "outputs": [],
   "source": [
    "def create_data_model(map):\n",
    "  data = {}\n",
    "  data['distance_matrix'] = map\n",
    "  data['num_vehicles'] = 1\n",
    "  data['depot'] = 0\n",
    "  return data\n",
    "\n",
    "def or_tools(dataset):\n",
    "  map = map_gen(dataset)\n",
    "  data = create_data_model(map)\n",
    "\n",
    "  manager = pywrapcp.RoutingIndexManager(len(data['distance_matrix']),\n",
    "                                          data['num_vehicles'], data['depot'])\n",
    "\n",
    "  routing = pywrapcp.RoutingModel(manager)\n",
    "\n",
    "  distance_matrix = data['distance_matrix']\n",
    "\n",
    "  def distance_callback(from_index, to_index):\n",
    "    from_node = manager.IndexToNode(from_index)\n",
    "    to_node = manager.IndexToNode(to_index)\n",
    "    return distance_matrix[from_node][to_node]\n",
    "\n",
    "  transit_callback_index = routing.RegisterTransitCallback(distance_callback)\n",
    "\n",
    "  routing.SetArcCostEvaluatorOfAllVehicles(transit_callback_index)\n",
    "\n",
    "  search_parameters = pywrapcp.DefaultRoutingSearchParameters()\n",
    "  search_parameters.first_solution_strategy = (\n",
    "      routing_enums_pb2.FirstSolutionStrategy.PATH_CHEAPEST_ARC)\n",
    "\n",
    "  solution = routing.SolveWithParameters(search_parameters)\n",
    "\n",
    "  best = solution.ObjectiveValue()\n",
    "  return best"
   ]
  },
  {
   "cell_type": "markdown",
   "metadata": {
    "id": "XiCZaOOoyIfs"
   },
   "source": [
    "## Fungsi Benchmark"
   ]
  },
  {
   "cell_type": "code",
   "execution_count": 8,
   "metadata": {
    "id": "mmGEAbWxyQCj"
   },
   "outputs": [],
   "source": [
    "def bench(count, dataset, bks, method='ga'):\n",
    "  best_pool = []\n",
    "  if method == 'ga':\n",
    "    func = genetic_algorithm\n",
    "  elif method == 'or-tools':\n",
    "    func = or_tools\n",
    "  for i in range(count):\n",
    "    best_pool.append(func(dataset))\n",
    "  \n",
    "  best = min(best_pool)\n",
    "  avg = average_list(best_pool)\n",
    "\n",
    "  dataset_pdbest = pdbest(best, bks)\n",
    "  dataset_pdavg = pdav(avg, bks)\n",
    "  return [bks, avg, best, dataset_pdavg, dataset_pdbest]"
   ]
  },
  {
   "cell_type": "code",
   "execution_count": 9,
   "metadata": {
    "colab": {
     "base_uri": "https://localhost:8080/",
     "height": 1000
    },
    "id": "i1_lv1HqMFWZ",
    "outputId": "848bcbe7-b02b-4a65-e81f-56f31daa901a"
   },
   "outputs": [
    {
     "name": "stdout",
     "output_type": "stream",
     "text": [
      "Current dataset: eil51\n",
      "Current dataset: berlin52\n",
      "Current dataset: st70\n",
      "Current dataset: eil76\n",
      "Current dataset: rat99\n",
      "Current dataset: kroA100\n",
      "Current dataset: kroB100\n",
      "Current dataset: kroC100\n",
      "Current dataset: kroD100\n",
      "Current dataset: kroE100\n",
      "Current dataset: eil101\n",
      "Current dataset: pr107\n",
      "Current dataset: pr124\n",
      "Current dataset: pr136\n",
      "Current dataset: pr144\n",
      "Time elapsed: 2m 2s\n",
      "Current dataset: eil51\n",
      "Current dataset: berlin52\n",
      "Current dataset: st70\n",
      "Current dataset: eil76\n",
      "Current dataset: rat99\n",
      "Current dataset: kroA100\n",
      "Current dataset: kroB100\n",
      "Current dataset: kroC100\n",
      "Current dataset: kroD100\n",
      "Current dataset: kroE100\n",
      "Current dataset: eil101\n",
      "Current dataset: pr107\n",
      "Current dataset: pr124\n",
      "Current dataset: pr136\n",
      "Current dataset: pr144\n",
      "Time elapsed: 1m 1s\n"
     ]
    },
    {
     "data": {
      "text/html": [
       "<div>\n",
       "<style scoped>\n",
       "    .dataframe tbody tr th:only-of-type {\n",
       "        vertical-align: middle;\n",
       "    }\n",
       "\n",
       "    .dataframe tbody tr th {\n",
       "        vertical-align: top;\n",
       "    }\n",
       "\n",
       "    .dataframe thead th {\n",
       "        text-align: right;\n",
       "    }\n",
       "</style>\n",
       "<table border=\"1\" class=\"dataframe\">\n",
       "  <thead>\n",
       "    <tr style=\"text-align: right;\">\n",
       "      <th></th>\n",
       "      <th>Name</th>\n",
       "      <th>BKS</th>\n",
       "      <th>Average</th>\n",
       "      <th>Best</th>\n",
       "      <th>PDAv(%)</th>\n",
       "      <th>PDBest(%)</th>\n",
       "    </tr>\n",
       "  </thead>\n",
       "  <tbody>\n",
       "    <tr>\n",
       "      <th>1</th>\n",
       "      <td>eil51</td>\n",
       "      <td>426</td>\n",
       "      <td>780.294</td>\n",
       "      <td>681.72</td>\n",
       "      <td>83.167606</td>\n",
       "      <td>60.028169</td>\n",
       "    </tr>\n",
       "    <tr>\n",
       "      <th>2</th>\n",
       "      <td>berlin52</td>\n",
       "      <td>7542</td>\n",
       "      <td>13984.281</td>\n",
       "      <td>11487.58</td>\n",
       "      <td>85.418735</td>\n",
       "      <td>52.314771</td>\n",
       "    </tr>\n",
       "    <tr>\n",
       "      <th>3</th>\n",
       "      <td>st70</td>\n",
       "      <td>675</td>\n",
       "      <td>1800.377</td>\n",
       "      <td>1638.52</td>\n",
       "      <td>166.722519</td>\n",
       "      <td>142.743704</td>\n",
       "    </tr>\n",
       "    <tr>\n",
       "      <th>4</th>\n",
       "      <td>eil76</td>\n",
       "      <td>538</td>\n",
       "      <td>1283.468</td>\n",
       "      <td>1161.08</td>\n",
       "      <td>138.562825</td>\n",
       "      <td>115.814126</td>\n",
       "    </tr>\n",
       "    <tr>\n",
       "      <th>5</th>\n",
       "      <td>rat99</td>\n",
       "      <td>1211</td>\n",
       "      <td>4142.822</td>\n",
       "      <td>3871.71</td>\n",
       "      <td>242.099257</td>\n",
       "      <td>219.711808</td>\n",
       "    </tr>\n",
       "    <tr>\n",
       "      <th>6</th>\n",
       "      <td>kroA100</td>\n",
       "      <td>21282</td>\n",
       "      <td>84469.557</td>\n",
       "      <td>78030.44</td>\n",
       "      <td>296.906104</td>\n",
       "      <td>266.649939</td>\n",
       "    </tr>\n",
       "    <tr>\n",
       "      <th>7</th>\n",
       "      <td>kroB100</td>\n",
       "      <td>22140</td>\n",
       "      <td>81217.640</td>\n",
       "      <td>75584.03</td>\n",
       "      <td>266.836676</td>\n",
       "      <td>241.391283</td>\n",
       "    </tr>\n",
       "    <tr>\n",
       "      <th>8</th>\n",
       "      <td>kroC100</td>\n",
       "      <td>20749</td>\n",
       "      <td>83949.045</td>\n",
       "      <td>78584.25</td>\n",
       "      <td>304.593209</td>\n",
       "      <td>278.737530</td>\n",
       "    </tr>\n",
       "    <tr>\n",
       "      <th>9</th>\n",
       "      <td>kroD100</td>\n",
       "      <td>21294</td>\n",
       "      <td>81413.496</td>\n",
       "      <td>74659.82</td>\n",
       "      <td>282.330685</td>\n",
       "      <td>250.614351</td>\n",
       "    </tr>\n",
       "    <tr>\n",
       "      <th>10</th>\n",
       "      <td>kroE100</td>\n",
       "      <td>22068</td>\n",
       "      <td>81250.234</td>\n",
       "      <td>74597.81</td>\n",
       "      <td>268.181231</td>\n",
       "      <td>238.036116</td>\n",
       "    </tr>\n",
       "    <tr>\n",
       "      <th>11</th>\n",
       "      <td>eil101</td>\n",
       "      <td>629</td>\n",
       "      <td>1882.254</td>\n",
       "      <td>1781.33</td>\n",
       "      <td>199.245469</td>\n",
       "      <td>183.200318</td>\n",
       "    </tr>\n",
       "    <tr>\n",
       "      <th>12</th>\n",
       "      <td>pr107</td>\n",
       "      <td>44303</td>\n",
       "      <td>250539.991</td>\n",
       "      <td>219292.32</td>\n",
       "      <td>465.514730</td>\n",
       "      <td>394.983003</td>\n",
       "    </tr>\n",
       "    <tr>\n",
       "      <th>13</th>\n",
       "      <td>pr124</td>\n",
       "      <td>59030</td>\n",
       "      <td>360368.898</td>\n",
       "      <td>344219.22</td>\n",
       "      <td>510.484327</td>\n",
       "      <td>483.125902</td>\n",
       "    </tr>\n",
       "    <tr>\n",
       "      <th>14</th>\n",
       "      <td>pr136</td>\n",
       "      <td>96772</td>\n",
       "      <td>444893.632</td>\n",
       "      <td>424222.18</td>\n",
       "      <td>359.733840</td>\n",
       "      <td>338.372856</td>\n",
       "    </tr>\n",
       "    <tr>\n",
       "      <th>15</th>\n",
       "      <td>pr144</td>\n",
       "      <td>58537</td>\n",
       "      <td>434845.299</td>\n",
       "      <td>408182.52</td>\n",
       "      <td>642.855457</td>\n",
       "      <td>597.306866</td>\n",
       "    </tr>\n",
       "  </tbody>\n",
       "</table>\n",
       "</div>"
      ],
      "text/plain": [
       "        Name    BKS     Average       Best     PDAv(%)   PDBest(%)\n",
       "1      eil51    426     780.294     681.72   83.167606   60.028169\n",
       "2   berlin52   7542   13984.281   11487.58   85.418735   52.314771\n",
       "3       st70    675    1800.377    1638.52  166.722519  142.743704\n",
       "4      eil76    538    1283.468    1161.08  138.562825  115.814126\n",
       "5      rat99   1211    4142.822    3871.71  242.099257  219.711808\n",
       "6    kroA100  21282   84469.557   78030.44  296.906104  266.649939\n",
       "7    kroB100  22140   81217.640   75584.03  266.836676  241.391283\n",
       "8    kroC100  20749   83949.045   78584.25  304.593209  278.737530\n",
       "9    kroD100  21294   81413.496   74659.82  282.330685  250.614351\n",
       "10   kroE100  22068   81250.234   74597.81  268.181231  238.036116\n",
       "11    eil101    629    1882.254    1781.33  199.245469  183.200318\n",
       "12     pr107  44303  250539.991  219292.32  465.514730  394.983003\n",
       "13     pr124  59030  360368.898  344219.22  510.484327  483.125902\n",
       "14     pr136  96772  444893.632  424222.18  359.733840  338.372856\n",
       "15     pr144  58537  434845.299  408182.52  642.855457  597.306866"
      ]
     },
     "metadata": {},
     "output_type": "display_data"
    },
    {
     "data": {
      "text/html": [
       "<div>\n",
       "<style scoped>\n",
       "    .dataframe tbody tr th:only-of-type {\n",
       "        vertical-align: middle;\n",
       "    }\n",
       "\n",
       "    .dataframe tbody tr th {\n",
       "        vertical-align: top;\n",
       "    }\n",
       "\n",
       "    .dataframe thead th {\n",
       "        text-align: right;\n",
       "    }\n",
       "</style>\n",
       "<table border=\"1\" class=\"dataframe\">\n",
       "  <thead>\n",
       "    <tr style=\"text-align: right;\">\n",
       "      <th></th>\n",
       "      <th>Name</th>\n",
       "      <th>BKS</th>\n",
       "      <th>Average</th>\n",
       "      <th>Best</th>\n",
       "      <th>PDAv(%)</th>\n",
       "      <th>PDBest(%)</th>\n",
       "    </tr>\n",
       "  </thead>\n",
       "  <tbody>\n",
       "    <tr>\n",
       "      <th>1</th>\n",
       "      <td>eil51</td>\n",
       "      <td>426</td>\n",
       "      <td>430.0</td>\n",
       "      <td>430</td>\n",
       "      <td>0.938967</td>\n",
       "      <td>0.938967</td>\n",
       "    </tr>\n",
       "    <tr>\n",
       "      <th>2</th>\n",
       "      <td>berlin52</td>\n",
       "      <td>7542</td>\n",
       "      <td>7924.0</td>\n",
       "      <td>7924</td>\n",
       "      <td>5.064970</td>\n",
       "      <td>5.064970</td>\n",
       "    </tr>\n",
       "    <tr>\n",
       "      <th>3</th>\n",
       "      <td>st70</td>\n",
       "      <td>675</td>\n",
       "      <td>663.0</td>\n",
       "      <td>663</td>\n",
       "      <td>-1.777778</td>\n",
       "      <td>-1.777778</td>\n",
       "    </tr>\n",
       "    <tr>\n",
       "      <th>4</th>\n",
       "      <td>eil76</td>\n",
       "      <td>538</td>\n",
       "      <td>537.0</td>\n",
       "      <td>537</td>\n",
       "      <td>-0.185874</td>\n",
       "      <td>-0.185874</td>\n",
       "    </tr>\n",
       "    <tr>\n",
       "      <th>5</th>\n",
       "      <td>rat99</td>\n",
       "      <td>1211</td>\n",
       "      <td>1240.0</td>\n",
       "      <td>1240</td>\n",
       "      <td>2.394715</td>\n",
       "      <td>2.394715</td>\n",
       "    </tr>\n",
       "    <tr>\n",
       "      <th>6</th>\n",
       "      <td>kroA100</td>\n",
       "      <td>21282</td>\n",
       "      <td>21923.0</td>\n",
       "      <td>21923</td>\n",
       "      <td>3.011935</td>\n",
       "      <td>3.011935</td>\n",
       "    </tr>\n",
       "    <tr>\n",
       "      <th>7</th>\n",
       "      <td>kroB100</td>\n",
       "      <td>22140</td>\n",
       "      <td>22892.0</td>\n",
       "      <td>22892</td>\n",
       "      <td>3.396567</td>\n",
       "      <td>3.396567</td>\n",
       "    </tr>\n",
       "    <tr>\n",
       "      <th>8</th>\n",
       "      <td>kroC100</td>\n",
       "      <td>20749</td>\n",
       "      <td>22198.0</td>\n",
       "      <td>22198</td>\n",
       "      <td>6.983469</td>\n",
       "      <td>6.983469</td>\n",
       "    </tr>\n",
       "    <tr>\n",
       "      <th>9</th>\n",
       "      <td>kroD100</td>\n",
       "      <td>21294</td>\n",
       "      <td>22392.0</td>\n",
       "      <td>22392</td>\n",
       "      <td>5.156382</td>\n",
       "      <td>5.156382</td>\n",
       "    </tr>\n",
       "    <tr>\n",
       "      <th>10</th>\n",
       "      <td>kroE100</td>\n",
       "      <td>22068</td>\n",
       "      <td>22479.0</td>\n",
       "      <td>22479</td>\n",
       "      <td>1.862425</td>\n",
       "      <td>1.862425</td>\n",
       "    </tr>\n",
       "    <tr>\n",
       "      <th>11</th>\n",
       "      <td>eil101</td>\n",
       "      <td>629</td>\n",
       "      <td>651.0</td>\n",
       "      <td>651</td>\n",
       "      <td>3.497615</td>\n",
       "      <td>3.497615</td>\n",
       "    </tr>\n",
       "    <tr>\n",
       "      <th>12</th>\n",
       "      <td>pr107</td>\n",
       "      <td>44303</td>\n",
       "      <td>44547.0</td>\n",
       "      <td>44547</td>\n",
       "      <td>0.550753</td>\n",
       "      <td>0.550753</td>\n",
       "    </tr>\n",
       "    <tr>\n",
       "      <th>13</th>\n",
       "      <td>pr124</td>\n",
       "      <td>59030</td>\n",
       "      <td>60397.0</td>\n",
       "      <td>60397</td>\n",
       "      <td>2.315772</td>\n",
       "      <td>2.315772</td>\n",
       "    </tr>\n",
       "    <tr>\n",
       "      <th>14</th>\n",
       "      <td>pr136</td>\n",
       "      <td>96772</td>\n",
       "      <td>102782.0</td>\n",
       "      <td>102782</td>\n",
       "      <td>6.210474</td>\n",
       "      <td>6.210474</td>\n",
       "    </tr>\n",
       "    <tr>\n",
       "      <th>15</th>\n",
       "      <td>pr144</td>\n",
       "      <td>58537</td>\n",
       "      <td>59272.0</td>\n",
       "      <td>59272</td>\n",
       "      <td>1.255616</td>\n",
       "      <td>1.255616</td>\n",
       "    </tr>\n",
       "  </tbody>\n",
       "</table>\n",
       "</div>"
      ],
      "text/plain": [
       "        Name    BKS   Average    Best   PDAv(%)  PDBest(%)\n",
       "1      eil51    426     430.0     430  0.938967   0.938967\n",
       "2   berlin52   7542    7924.0    7924  5.064970   5.064970\n",
       "3       st70    675     663.0     663 -1.777778  -1.777778\n",
       "4      eil76    538     537.0     537 -0.185874  -0.185874\n",
       "5      rat99   1211    1240.0    1240  2.394715   2.394715\n",
       "6    kroA100  21282   21923.0   21923  3.011935   3.011935\n",
       "7    kroB100  22140   22892.0   22892  3.396567   3.396567\n",
       "8    kroC100  20749   22198.0   22198  6.983469   6.983469\n",
       "9    kroD100  21294   22392.0   22392  5.156382   5.156382\n",
       "10   kroE100  22068   22479.0   22479  1.862425   1.862425\n",
       "11    eil101    629     651.0     651  3.497615   3.497615\n",
       "12     pr107  44303   44547.0   44547  0.550753   0.550753\n",
       "13     pr124  59030   60397.0   60397  2.315772   2.315772\n",
       "14     pr136  96772  102782.0  102782  6.210474   6.210474\n",
       "15     pr144  58537   59272.0   59272  1.255616   1.255616"
      ]
     },
     "metadata": {},
     "output_type": "display_data"
    },
    {
     "data": {
      "image/png": "[encoded data removed]",
      "text/plain": [
       "<Figure size 1080x1080 with 1 Axes>"
      ]
     },
     "metadata": {
      "needs_background": "light"
     },
     "output_type": "display_data"
    },
    {
     "data": {
      "image/png": "[encoded data removed]",
      "text/plain": [
       "<Figure size 1080x1080 with 1 Axes>"
      ]
     },
     "metadata": {
      "needs_background": "light"
     },
     "output_type": "display_data"
    },
    {
     "data": {
      "image/png": "[encoded data removed]",
      "text/plain": [
       "<Figure size 1080x1080 with 1 Axes>"
      ]
     },
     "metadata": {
      "needs_background": "light"
     },
     "output_type": "display_data"
    },
    {
     "data": {
      "image/png": "[encoded data removed]",
      "text/plain": [
       "<Figure size 1080x1080 with 1 Axes>"
      ]
     },
     "metadata": {
      "needs_background": "light"
     },
     "output_type": "display_data"
    },
    {
     "data": {
      "image/png": "[encoded data removed]",
      "text/plain": [
       "<Figure size 1080x1080 with 1 Axes>"
      ]
     },
     "metadata": {
      "needs_background": "light"
     },
     "output_type": "display_data"
    },
    {
     "data": {
      "image/png": "[encoded data removed]",
      "text/plain": [
       "<Figure size 1080x1080 with 1 Axes>"
      ]
     },
     "metadata": {
      "needs_background": "light"
     },
     "output_type": "display_data"
    }
   ],
   "source": [
    "def main():\n",
    "  BENCHMARK_ITERATION = 10\n",
    "  # sos_pdav = [ 2.99, 1.56, 3.57, 3.4, 7.13, 1.65, 4.529, 1.31, 3.52, 1.81, 4.88, 4.08, 17.25, 3.81, 2.73 ]\n",
    "  # sos_pdbest = [0.7, 1.39, 0, 0.74, 6.03, 0.56, 0.07, 0.3, 0.93, 0.27, 3.18, 4.05, 16.79, 1.29, 0.09]\n",
    "  dsos_pdav = [ 0.45, 0.01, 0.62, 1.75, 2.46, 0.60, 0.90, 0.64, 0.94, 0.74, 3.43, 0.32, 0.68, 0.93, 0.49]\n",
    "  dsos_pdbest = [0, 0, 0, 0.74, 1.98, 0, 0, 0, 0, 0, 1.75, 0.02, 0, 0.69, 0.05]\n",
    "\n",
    "  # Genetic Algorithm\n",
    "  ga_results = []\n",
    "  ga_pdbest = []\n",
    "  ga_pdav = []\n",
    "  start = time.time()\n",
    "  for dataset in dataset_list:\n",
    "    print(f'Current dataset: {dataset[2]}')\n",
    "    benchmark = bench(BENCHMARK_ITERATION, dataset[0], dataset[1], 'ga')\n",
    "    benchmark.insert(0,dataset[2])\n",
    "    ga_pdbest.append(benchmark[5])\n",
    "    ga_pdav.append(benchmark[4])\n",
    "    ga_results.append(benchmark)\n",
    "  end = time.time()\n",
    "  total_t = time.gmtime((end - start))\n",
    "  print (f'Time elapsed: {total_t.tm_min}m {total_t.tm_min}s')\n",
    "\n",
    "\n",
    "  # Google OR-Tools\n",
    "  gor_results = []\n",
    "  gor_pdbest = []\n",
    "  gor_pdav = []\n",
    "  start = time.time()\n",
    "  for dataset in dataset_list:\n",
    "    print(f'Current dataset: {dataset[2]}')\n",
    "    benchmark = bench(BENCHMARK_ITERATION, dataset[0], dataset[1], 'or-tools')\n",
    "    benchmark.insert(0,dataset[2])\n",
    "    gor_pdbest.append(benchmark[5])\n",
    "    gor_pdav.append(benchmark[4])\n",
    "    gor_results.append(benchmark)\n",
    "  end = time.time()\n",
    "  total_t = time.gmtime((end - start))\n",
    "  print (f'Time elapsed: {total_t.tm_min}m {total_t.tm_min}s')\n",
    "  \n",
    "\n",
    "\n",
    "  map_as_table(ga_results, columns=['Name', 'BKS', 'Average', 'Best', 'PDAv(%)', 'PDBest(%)'])\n",
    "  map_as_table(gor_results, columns=['Name', 'BKS', 'Average', 'Best', 'PDAv(%)', 'PDBest(%)'])\n",
    "  \n",
    "  plot(\"DSOS vs GA PDBest \", dsos=dsos_pdbest, ga=ga_pdbest)\n",
    "  plot(\"DSOS vs G-OR PDBest \", dsos=dsos_pdbest, gor=gor_pdbest)\n",
    "  plot(\"GA vs G-OR PDBest \", ga=ga_pdbest, gor=gor_pdbest)\n",
    "  \n",
    "  plot(\"DSOS vs GA PDAv\", dsos=dsos_pdav, ga=ga_pdav)\n",
    "  plot(\"DSOS vs G-OR PDAv\", dsos=dsos_pdav, gor=gor_pdav)\n",
    "  plot(\"GA vs G-OR PDAv\", ga=ga_pdav, gor=gor_pdav)\n",
    "\n",
    "main()"
   ]
  }
 ],
 "metadata": {
  "colab": {
   "collapsed_sections": [],
   "name": "EAS",
   "provenance": []
  },
  "kernelspec": {
   "display_name": "Python 3 (ipykernel)",
   "language": "python",
   "name": "python3"
  },
  "language_info": {
   "codemirror_mode": {
    "name": "ipython",
    "version": 3
   },
   "file_extension": ".py",
   "mimetype": "text/x-python",
   "name": "python",
   "nbconvert_exporter": "python",
   "pygments_lexer": "ipython3",
   "version": "3.9.2"
  }
 },
 "nbformat": 4,
 "nbformat_minor": 4
}
